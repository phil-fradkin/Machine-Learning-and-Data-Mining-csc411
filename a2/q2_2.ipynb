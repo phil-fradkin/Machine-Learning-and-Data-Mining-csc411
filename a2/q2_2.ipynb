{
 "cells": [
  {
   "cell_type": "code",
   "execution_count": 559,
   "metadata": {
    "collapsed": true
   },
   "outputs": [],
   "source": [
    "np.set_printoptions(suppress=True)\n",
    "from __future__ import division"
   ]
  },
  {
   "cell_type": "code",
   "execution_count": 562,
   "metadata": {},
   "outputs": [
    {
     "data": {
      "image/png": "[encoded data removed]",
      "text/plain": [
       "<matplotlib.figure.Figure at 0x191183710>"
      ]
     },
     "metadata": {},
     "output_type": "display_data"
    },
    {
     "name": "stdout",
     "output_type": "stream",
     "text": [
      "0\n",
      "1000\n",
      "2000\n",
      "3000\n",
      "4000\n",
      "5000\n",
      "6000\n",
      "Average Train Conditional Likelihood [ 0.09867773  0.09678548  0.09926506  0.09756555  0.09864704  0.09674104\n",
      "  0.0981399   0.09528698  0.09892776  0.09720246]\n",
      "0\n",
      "1000\n",
      "2000\n",
      "3000\n",
      "Average Test Conditional Likelihood [ 0.09867773  0.09678548  0.09926506  0.09756555  0.09864704  0.09674104\n",
      "  0.0981399   0.09528698  0.09892776  0.09720246]\n",
      "0\n",
      "1000\n",
      "2000\n",
      "3000\n",
      "4000\n",
      "5000\n",
      "6000\n",
      "0\n",
      "1000\n",
      "2000\n",
      "3000\n",
      "Train Accuracy 0.981285714286\n",
      "Test Accuracy 0.95925\n"
     ]
    }
   ],
   "source": [
    "'''\n",
    "Question 2.2 Skeleton Code\n",
    "\n",
    "Here you should implement and evaluate the Conditional Gaussian classifier.\n",
    "'''\n",
    "\n",
    "\n",
    "import data\n",
    "import numpy as np\n",
    "# Import pyplot - plt.imshow is useful!\n",
    "import matplotlib.pyplot as plt\n",
    "np.set_printoptions(suppress=True)\n",
    "from __future__ import division\n",
    "\n",
    "np.random.seed(1337)\n",
    "\n",
    "def compute_mean_mles(train_data, train_labels):\n",
    "    '''\n",
    "    Compute the mean estimate for each digit class\n",
    "\n",
    "    Should return a numpy array of size (10,64)\n",
    "    The ith row will correspond to the mean estimate for digit class i\n",
    "    '''\n",
    "    means = np.zeros((10, 64))\n",
    "    # Compute means\n",
    "    for i in range(10):\n",
    "            means[i] = train_data[train_labels == i].mean(0)\n",
    "    return means\n",
    "\n",
    "def compute_sigma_mles(train_data, train_labels):\n",
    "    '''\n",
    "    Compute the covariance estimate for each digit class\n",
    "\n",
    "    Should return a three dimensional numpy array of shape (10, 64, 64)\n",
    "    consisting of a covariance matrix for each digit class \n",
    "    '''\n",
    "    covariances = np.zeros((10, 64, 64))\n",
    "    for digit in range(10):\n",
    "        \n",
    "        digit_data = train_data[train_labels == digit]\n",
    "        \n",
    "        for i in range(64):\n",
    "            for j in range(64):\n",
    "                a = ([x[i] for x in digit_data]  - np.mean([x[i] for x in digit_data]))\n",
    "                b = ([x[j] for x in digit_data] - np.mean([x[j] for x in digit_data]))\n",
    "                covOut = sum( a * b /len(a) )\n",
    "                \n",
    "                covariances[digit][i][j] = covOut\n",
    "                \n",
    "        covariances[digit] + 0.01 * np.identity(64)\n",
    "        \n",
    "    # Compute covariances\n",
    "    return covariances\n",
    "\n",
    "def plot_cov_diagonal(covariances):\n",
    "    # Plot the log-diagonal of each covariance matrix side by side\n",
    "    logCovList = []\n",
    "    for i in range(10):\n",
    "        cov_diag = np.diag(covariances[i])\n",
    "        logCovList.append(np.log(cov_diag).reshape(8,8))\n",
    "        # ...\n",
    "        \n",
    "    all_concat = np.concatenate(logCovList, 1)\n",
    "    plt.imshow(all_concat, cmap='gray')\n",
    "    plt.show()\n",
    "\n",
    "def generative_likelihood(digits, means, covariances):\n",
    "    '''\n",
    "    Compute the generative log-likelihood:\n",
    "        log p(x|y,mu,Sigma)\n",
    "\n",
    "    Should return an n x 10 numpy array \n",
    "    '''\n",
    "    GenLikelihood = np.zeros((digits.shape[0],10))\n",
    "\n",
    "    for i in range(digits.shape[0]):\n",
    "        \n",
    "        if i%1000 == 0:\n",
    "            print i\n",
    "        \n",
    "        for j in range(10):\n",
    "    \n",
    "            Numerator = ((-1/2) * (digits[i] - means[j]).transpose().dot(\n",
    "                         np.linalg.inv(covariances[j])).dot( (digits[i] - means[j])))\n",
    "\n",
    "            Denominator = np.log(np.sqrt( np.power(2* np.pi,10/2) * np.linalg.det(covariances[j])))\n",
    "            \n",
    "            GenLikelihood[i][j] = Numerator - Denominator\n",
    "\n",
    "    return GenLikelihood\n",
    "\n",
    "def conditional_likelihood(digits, means, covariances):\n",
    "    '''\n",
    "    Compute the conditional likelihood:\n",
    "\n",
    "        log p(y|x, mu, Sigma)\n",
    "\n",
    "    This should be a numpy array of shape (n, 10)\n",
    "    Where n is the number of datapoints and 10 corresponds to each digit class\n",
    "    '''\n",
    "    #Calculate p(X)\n",
    "    \n",
    "    GenLikelihood = generative_likelihood(digits,means,covariances)\n",
    "        \n",
    "    CondLikelihood = (np.exp(GenLikelihood) * (1/10)) / (1/10 * \n",
    "                                                         (np.exp(GenLikelihood)).sum(1)[:,None])\n",
    "    \n",
    "    return CondLikelihood\n",
    "\n",
    "def avg_conditional_likelihood(digits, labels, means, covariances):\n",
    "    '''\n",
    "    Compute the average conditional likelihood over the true class labels\n",
    "\n",
    "        AVG( log p(y_i|x_i, mu, Sigma) )\n",
    "\n",
    "    i.e. the average log likelihood that the model assigns to the correct class label\n",
    "    '''\n",
    "    cond_likelihood = conditional_likelihood(digits, means, covariances)\n",
    "\n",
    "    # Compute as described above and return\n",
    "    AvgCondLikelihood = np.zeros(10)\n",
    "    \n",
    "    for i in range(10):\n",
    "            AvgCondLikelihood[i] = CondLikelihood[train_labels == i][:,i].mean()\n",
    "    \n",
    "    return AvgCondLikelihood\n",
    "\n",
    "def classify_data(digits, means, covariances):\n",
    "    '''\n",
    "    Classify new points by taking the most likely posterior class\n",
    "    '''\n",
    "    cond_likelihood = conditional_likelihood(digits, means, covariances)\n",
    "    # Compute and return the most likely class\n",
    "    digitsClass = cond_likelihood.argmax(1).astype('float')\n",
    "    return digitsClass\n",
    "\n",
    "def main():\n",
    "    train_data, train_labels, test_data, test_labels = data.load_all_data('data')\n",
    "\n",
    "    # Fit the model\n",
    "    TrainMeans = compute_mean_mles(train_data, train_labels)\n",
    "    TrainCovariances = compute_sigma_mles(train_data, train_labels)\n",
    "    \n",
    "    plot_cov_diagonal(TrainCovariances)\n",
    "    \n",
    "    AvgTrain = avg_conditional_likelihood(train_data, \n",
    "                                          train_labels, TrainMeans, TrainCovariances)\n",
    "    \n",
    "    print(\"Average Train Conditional Likelihood {}\".format(AvgTrain))\n",
    "    \n",
    "    AvgTest = avg_conditional_likelihood(test_data, \n",
    "                                          test_labels, TrainMeans, TrainCovariances)\n",
    "    \n",
    "    print(\"Average Test Conditional Likelihood {}\".format(AvgTest))\n",
    "    \n",
    "    TrainPred = classify_data(train_data, TrainMeans, TrainCovariances)\n",
    "    TestPred = classify_data(test_data, TrainMeans, TrainCovariances)\n",
    "    \n",
    "    print(\"Train Accuracy {}\".format((TrainPred == train_labels).sum() / len(train_labels)))\n",
    "    print(\"Test Accuracy {}\".format((TestPred == test_labels).sum() / len(test_labels)))\n",
    "    \n",
    "    conditional_likelihood\n",
    "    \n",
    "    # Evaluation\n",
    "\n",
    "if __name__ == '__main__':\n",
    "    main()"
   ]
  },
  {
   "cell_type": "code",
   "execution_count": 395,
   "metadata": {},
   "outputs": [
    {
     "data": {
      "image/png": "[encoded data removed]",
      "text/plain": [
       "<matplotlib.figure.Figure at 0x11790bf10>"
      ]
     },
     "metadata": {},
     "output_type": "display_data"
    }
   ],
   "source": [
    "train_data, train_labels, test_data, test_labels = data.load_all_data('data')\n",
    "\n",
    "# Fit the model\n",
    "means = compute_mean_mles(train_data, train_labels)\n",
    "covariances = compute_sigma_mles(train_data, train_labels)\n",
    "plot_cov_diagonal(covariances)\n",
    "# Evaluation"
   ]
  },
  {
   "cell_type": "code",
   "execution_count": 548,
   "metadata": {
    "scrolled": false
   },
   "outputs": [
    {
     "name": "stdout",
     "output_type": "stream",
     "text": [
      "0\n",
      "1000\n",
      "2000\n",
      "3000\n",
      "4000\n",
      "5000\n",
      "6000\n"
     ]
    }
   ],
   "source": [
    "PredLabels = classify_data(train_data,means,covariances)"
   ]
  },
  {
   "cell_type": "code",
   "execution_count": 549,
   "metadata": {
    "scrolled": false
   },
   "outputs": [
    {
     "data": {
      "text/plain": [
       "array([ 6.,  1.,  6., ...,  3.,  9.,  4.])"
      ]
     },
     "execution_count": 549,
     "metadata": {},
     "output_type": "execute_result"
    }
   ],
   "source": [
    "train_labels"
   ]
  },
  {
   "cell_type": "code",
   "execution_count": 550,
   "metadata": {},
   "outputs": [
    {
     "data": {
      "text/plain": [
       "array([ 6.,  1.,  6., ...,  3.,  9.,  4.])"
      ]
     },
     "execution_count": 550,
     "metadata": {},
     "output_type": "execute_result"
    }
   ],
   "source": [
    "PredLabels"
   ]
  },
  {
   "cell_type": "code",
   "execution_count": 551,
   "metadata": {},
   "outputs": [
    {
     "data": {
      "text/plain": [
       "array([ 6.,  1.,  6.,  6.,  3.,  1.,  3.,  3.,  8.,  9.])"
      ]
     },
     "execution_count": 551,
     "metadata": {},
     "output_type": "execute_result"
    }
   ],
   "source": [
    "PredLabels.astype('float')[:10]"
   ]
  },
  {
   "cell_type": "code",
   "execution_count": 552,
   "metadata": {},
   "outputs": [
    {
     "data": {
      "text/plain": [
       "array([ 6.,  1.,  6.,  6.,  3.,  1.,  3.,  3.,  8.,  9.])"
      ]
     },
     "execution_count": 552,
     "metadata": {},
     "output_type": "execute_result"
    }
   ],
   "source": [
    "train_labels[:10]"
   ]
  },
  {
   "cell_type": "code",
   "execution_count": 553,
   "metadata": {
    "scrolled": true
   },
   "outputs": [
    {
     "data": {
      "text/plain": [
       "6869"
      ]
     },
     "execution_count": 553,
     "metadata": {},
     "output_type": "execute_result"
    }
   ],
   "source": [
    "sum(PredLabels == train_labels)"
   ]
  },
  {
   "cell_type": "code",
   "execution_count": 557,
   "metadata": {
    "scrolled": true
   },
   "outputs": [
    {
     "data": {
      "text/plain": [
       "(-0.080052491836734782, 0.15302534693877648)"
      ]
     },
     "execution_count": 557,
     "metadata": {},
     "output_type": "execute_result"
    }
   ],
   "source": [
    "covariances.min(), covariances.max()"
   ]
  },
  {
   "cell_type": "code",
   "execution_count": null,
   "metadata": {
    "collapsed": true
   },
   "outputs": [],
   "source": []
  },
  {
   "cell_type": "code",
   "execution_count": 522,
   "metadata": {
    "scrolled": false
   },
   "outputs": [
    {
     "name": "stdout",
     "output_type": "stream",
     "text": [
      "0\n",
      "1000\n",
      "2000\n",
      "3000\n",
      "4000\n",
      "5000\n",
      "6000\n"
     ]
    },
    {
     "data": {
      "text/plain": [
       "array([[ -205.48538003,  -911.46318918,  -113.97014133, ...,\n",
       "        -5795.39448496,  -364.04359439, -2858.70863751],\n",
       "       [ -282.2912748 ,   137.64914549,     4.22683673, ...,\n",
       "           36.64049421,    52.63490024,    32.39839409],\n",
       "       [ -706.68066965, -1803.69943383,  -189.45712519, ...,\n",
       "        -4117.37200076,  -163.0495586 , -2803.80139167],\n",
       "       ..., \n",
       "       [  -55.74427537, -1656.25020612,   -95.06097259, ...,\n",
       "         -995.26308532,   -94.10787048, -1013.03261072],\n",
       "       [-1009.03036413, -1627.68697229,  -400.82521767, ...,\n",
       "        -1710.86772358,  -310.27691258,    24.06277665],\n",
       "       [-1724.9238908 , -2827.1299496 ,  -434.43575643, ...,\n",
       "        -3367.08467243,  -605.7361609 , -1341.14256657]])"
      ]
     },
     "execution_count": 522,
     "metadata": {},
     "output_type": "execute_result"
    }
   ],
   "source": [
    "GenLikelihood = generative_likelihood(train_data,means,covariances)\n",
    "        \n",
    "CondLikelihood = (np.exp(GenLikelihood) * (1/10)) / (np.exp(GenLikelihood)).sum(1)[:,None]\n",
    "\n",
    "GenLikelihood"
   ]
  },
  {
   "cell_type": "code",
   "execution_count": 523,
   "metadata": {
    "scrolled": true
   },
   "outputs": [
    {
     "data": {
      "text/plain": [
       "array([-1724.9238908 , -2827.1299496 ,  -434.43575643,  -601.72249999,\n",
       "          -1.68194957,  -605.28809025, -1089.67482429, -3367.08467243,\n",
       "        -605.7361609 , -1341.14256657])"
      ]
     },
     "execution_count": 523,
     "metadata": {},
     "output_type": "execute_result"
    }
   ],
   "source": [
    "GenLikelihood[-1]"
   ]
  },
  {
   "cell_type": "code",
   "execution_count": 524,
   "metadata": {},
   "outputs": [
    {
     "data": {
      "text/plain": [
       "array([ 0.        ,  0.        ,  0.        ,  0.        ,  0.18601098,\n",
       "        0.        ,  0.        ,  0.        ,  0.        ,  0.        ])"
      ]
     },
     "execution_count": 524,
     "metadata": {},
     "output_type": "execute_result"
    }
   ],
   "source": [
    "np.exp(GenLikelihood[-1])"
   ]
  },
  {
   "cell_type": "code",
   "execution_count": 525,
   "metadata": {
    "scrolled": true
   },
   "outputs": [
    {
     "data": {
      "text/plain": [
       "array([ 0. ,  0. ,  0. ,  0. ,  0.1,  0. ,  0. ,  0. ,  0. ,  0. ])"
      ]
     },
     "execution_count": 525,
     "metadata": {},
     "output_type": "execute_result"
    }
   ],
   "source": [
    "CondLikelihood[-1]"
   ]
  },
  {
   "cell_type": "code",
   "execution_count": null,
   "metadata": {
    "collapsed": true
   },
   "outputs": [],
   "source": []
  },
  {
   "cell_type": "code",
   "execution_count": 558,
   "metadata": {
    "scrolled": false
   },
   "outputs": [
    {
     "name": "stdout",
     "output_type": "stream",
     "text": [
      "0\n",
      "1000\n",
      "2000\n",
      "3000\n",
      "4000\n",
      "5000\n",
      "6000\n"
     ]
    },
    {
     "data": {
      "text/plain": [
       "array([ 0.09867773,  0.09678548,  0.09926506,  0.09756555,  0.09864704,\n",
       "        0.09674104,  0.0981399 ,  0.09528698,  0.09892776,  0.09720246])"
      ]
     },
     "execution_count": 558,
     "metadata": {},
     "output_type": "execute_result"
    }
   ],
   "source": [
    "avg_conditional_likelihood(train_data, train_labels, means, covariances)"
   ]
  },
  {
   "cell_type": "code",
   "execution_count": 65,
   "metadata": {
    "collapsed": true
   },
   "outputs": [],
   "source": [
    "means = compute_mean_mles(train_data, train_labels)\n",
    "covariances = compute_sigma_mles(train_data, train_labels)\n"
   ]
  },
  {
   "cell_type": "code",
   "execution_count": 206,
   "metadata": {},
   "outputs": [
    {
     "name": "stdout",
     "output_type": "stream",
     "text": [
      "(64,)\n",
      "(64, 64)\n",
      "(7000, 64)\n"
     ]
    }
   ],
   "source": [
    "digits = train_data\n",
    "print(means[1].shape)\n",
    "print(covariances[1].shape)\n",
    "print(digits.shape)"
   ]
  },
  {
   "cell_type": "code",
   "execution_count": 197,
   "metadata": {},
   "outputs": [
    {
     "data": {
      "text/plain": [
       "-147.67171669672189"
      ]
     },
     "execution_count": 197,
     "metadata": {},
     "output_type": "execute_result"
    }
   ],
   "source": [
    "#Denominator generative_likelihood\n",
    "j = 1\n",
    "Denominator = np.log(np.sqrt( np.power(2* np.pi,10) * np.linalg.det(covariances[j]) ))\n",
    "Denominator.shape\n",
    "Denominator"
   ]
  },
  {
   "cell_type": "code",
   "execution_count": null,
   "metadata": {
    "collapsed": true
   },
   "outputs": [],
   "source": [
    "    \n",
    "            Numerator = ((-1/2) * (digits[i] - means[j]).transpose() * \n",
    "                         np.linalg.inv(covariances[j]) * (digits[i] - means[j]))"
   ]
  },
  {
   "cell_type": "code",
   "execution_count": 222,
   "metadata": {},
   "outputs": [
    {
     "name": "stdout",
     "output_type": "stream",
     "text": [
      "(64,)\n",
      "(64, 64)\n",
      "(64,)\n",
      "()\n"
     ]
    },
    {
     "data": {
      "text/plain": [
       "5.9936369172162056"
      ]
     },
     "execution_count": 222,
     "metadata": {},
     "output_type": "execute_result"
    }
   ],
   "source": [
    "#Numerator\n",
    "i = 1\n",
    "\n",
    "print((digits[i] - means[j]).transpose().shape) \n",
    "print(np.linalg.inv(covariances[j]).shape)\n",
    "print((digits[i] - means[j]).shape)\n",
    "\n",
    "Numerator = (-1/2)*( (digits[i] - means[j]).transpose().dot(\n",
    "                     np.linalg.inv(covariances[j]) ).dot((digits[i] - means[j])))\n",
    "\n",
    "print((Numerator / Denominator).shape)\n",
    "Numerator / Denominator"
   ]
  },
  {
   "cell_type": "code",
   "execution_count": 160,
   "metadata": {},
   "outputs": [
    {
     "name": "stdout",
     "output_type": "stream",
     "text": [
      "(7000, 64)\n",
      "(64, 64)\n"
     ]
    }
   ],
   "source": [
    "print((digits - means[1]).shape)\n",
    "print(np.linalg.inv(covariances[i]).shape)"
   ]
  },
  {
   "cell_type": "code",
   "execution_count": 218,
   "metadata": {},
   "outputs": [
    {
     "name": "stdout",
     "output_type": "stream",
     "text": [
      "(64, 7000)\n",
      "(64, 64)\n"
     ]
    }
   ],
   "source": [
    "print((digits - means[1]).transpose().shape)\n",
    "print((np.linalg.inv(covariances[i]) * (means[1])).shape)\n"
   ]
  },
  {
   "cell_type": "code",
   "execution_count": 219,
   "metadata": {},
   "outputs": [
    {
     "ename": "ValueError",
     "evalue": "shapes (64,7000) and (64,64) not aligned: 7000 (dim 1) != 64 (dim 0)",
     "output_type": "error",
     "traceback": [
      "\u001b[0;31m---------------------------------------------------------------------------\u001b[0m",
      "\u001b[0;31mValueError\u001b[0m                                Traceback (most recent call last)",
      "\u001b[0;32m<ipython-input-219-588dde9c1207>\u001b[0m in \u001b[0;36m<module>\u001b[0;34m()\u001b[0m\n\u001b[0;32m----> 1\u001b[0;31m \u001b[0;34m(\u001b[0m\u001b[0mdigits\u001b[0m \u001b[0;34m-\u001b[0m \u001b[0mmeans\u001b[0m\u001b[0;34m[\u001b[0m\u001b[0;36m1\u001b[0m\u001b[0;34m]\u001b[0m\u001b[0;34m)\u001b[0m\u001b[0;34m.\u001b[0m\u001b[0mtranspose\u001b[0m\u001b[0;34m(\u001b[0m\u001b[0;34m)\u001b[0m\u001b[0;34m.\u001b[0m\u001b[0mdot\u001b[0m\u001b[0;34m(\u001b[0m\u001b[0mnp\u001b[0m\u001b[0;34m.\u001b[0m\u001b[0mlinalg\u001b[0m\u001b[0;34m.\u001b[0m\u001b[0minv\u001b[0m\u001b[0;34m(\u001b[0m\u001b[0mcovariances\u001b[0m\u001b[0;34m[\u001b[0m\u001b[0mi\u001b[0m\u001b[0;34m]\u001b[0m\u001b[0;34m)\u001b[0m\u001b[0;34m)\u001b[0m\u001b[0;34m\u001b[0m\u001b[0m\n\u001b[0m",
      "\u001b[0;31mValueError\u001b[0m: shapes (64,7000) and (64,64) not aligned: 7000 (dim 1) != 64 (dim 0)"
     ]
    }
   ],
   "source": [
    "(digits - means[1]).transpose().dot(np.linalg.inv(covariances[i]))"
   ]
  },
  {
   "cell_type": "code",
   "execution_count": 113,
   "metadata": {
    "scrolled": true
   },
   "outputs": [
    {
     "data": {
      "text/plain": [
       "(64, 64)"
      ]
     },
     "execution_count": 113,
     "metadata": {},
     "output_type": "execute_result"
    }
   ],
   "source": [
    "np.log(np.sqrt( np.power(2* np.pi,10) * np.abs(covariances[1]) ))"
   ]
  },
  {
   "cell_type": "code",
   "execution_count": 213,
   "metadata": {},
   "outputs": [
    {
     "data": {
      "text/plain": [
       "(7000, 10)"
      ]
     },
     "execution_count": 213,
     "metadata": {},
     "output_type": "execute_result"
    }
   ],
   "source": [
    "np.zeros((digits.shape[0],10)).shape"
   ]
  },
  {
   "cell_type": "code",
   "execution_count": 81,
   "metadata": {
    "scrolled": true
   },
   "outputs": [
    {
     "data": {
      "image/png": "[encoded data removed]",
      "text/plain": [
       "<matplotlib.figure.Figure at 0x10d6d6550>"
      ]
     },
     "metadata": {},
     "output_type": "display_data"
    }
   ],
   "source": [
    "plot_cov_diagonal(covariances)"
   ]
  },
  {
   "cell_type": "code",
   "execution_count": 85,
   "metadata": {},
   "outputs": [
    {
     "name": "stdout",
     "output_type": "stream",
     "text": [
      "(10, 64)\n",
      "(10, 64, 64)\n"
     ]
    }
   ],
   "source": [
    "print(means.shape)\n",
    "print(covariances.shape)"
   ]
  },
  {
   "cell_type": "code",
   "execution_count": 68,
   "metadata": {
    "scrolled": true
   },
   "outputs": [
    {
     "data": {
      "text/plain": [
       "array([ 0.00636434,  0.04744437,  0.05584498,  0.04712298,  0.04565981,\n",
       "        0.06993632,  0.08437145,  0.0404086 ,  0.00545176,  0.06452979,\n",
       "        0.10335628,  0.1049087 ,  0.11970745,  0.13537668,  0.10439102,\n",
       "        0.03378768,  0.00282205,  0.0486181 ,  0.11253859,  0.13380157,\n",
       "        0.13900071,  0.0927284 ,  0.10155969,  0.00660041,  0.00183754,\n",
       "        0.04102082,  0.11334433,  0.13770854,  0.06284215,  0.12372302,\n",
       "        0.05653155,  0.00257551,  0.00137617,  0.04567881,  0.12395663,\n",
       "        0.05653304,  0.12707362,  0.11226641,  0.0376904 ,  0.00216973,\n",
       "        0.00517135,  0.08981557,  0.0807572 ,  0.12769525,  0.15302535,\n",
       "        0.10256662,  0.03705333,  0.00197706,  0.028203  ,  0.09763357,\n",
       "        0.13303186,  0.1431981 ,  0.12296841,  0.10143637,  0.06264693,\n",
       "        0.00503118,  0.04350391,  0.08271082,  0.08359062,  0.06452483,\n",
       "        0.06261097,  0.05942188,  0.04389185,  0.005545  ])"
      ]
     },
     "execution_count": 68,
     "metadata": {},
     "output_type": "execute_result"
    }
   ],
   "source": [
    "np.diag(covariances[1])"
   ]
  },
  {
   "cell_type": "code",
   "execution_count": 42,
   "metadata": {
    "collapsed": true
   },
   "outputs": [],
   "source": [
    "covariances = np.zeros((10, 64, 64))\n"
   ]
  },
  {
   "cell_type": "code",
   "execution_count": 17,
   "metadata": {},
   "outputs": [
    {
     "data": {
      "text/plain": [
       "(1, 64)"
      ]
     },
     "execution_count": 17,
     "metadata": {},
     "output_type": "execute_result"
    }
   ],
   "source": [
    "train_data[np.argwhere(train_labels == 1)][0]"
   ]
  },
  {
   "cell_type": "code",
   "execution_count": 74,
   "metadata": {},
   "outputs": [
    {
     "data": {
      "text/plain": [
       "array([[-7.29577439, -4.39761927, -4.16242871, -4.40742531, -4.45293145,\n",
       "        -3.83781429, -3.56710134, -4.62919383],\n",
       "       [-7.51906158, -3.95389086, -3.27430202, -3.25279375, -3.06241518,\n",
       "        -2.8849488 , -3.25993049, -4.88735904],\n",
       "       [-8.46904011, -4.36236277, -3.15150834, -2.90183309, -2.84683585,\n",
       "        -3.43084487, -3.29960026, -7.24322904],\n",
       "       [-9.08801215, -4.60750002, -3.14121593, -2.86031011, -3.9921237 ,\n",
       "        -3.01481417, -4.14479991, -8.60092877],\n",
       "       [-9.50512858, -4.45233108, -3.01209263, -4.14476202, -2.97626355,\n",
       "        -3.15500178, -4.72965894, -8.8482712 ],\n",
       "       [-7.59524396, -3.47689068, -3.63026523, -2.96922325, -2.70815746,\n",
       "        -3.28536677, -4.75425299, -8.98242986],\n",
       "       [-5.14800757, -3.3564789 , -2.91015633, -2.80391572, -3.02364033,\n",
       "        -3.30135305, -3.99661238, -7.63488812],\n",
       "       [-4.52271098, -3.59578014, -3.58051505, -3.95400179, -3.99744072,\n",
       "        -4.07286194, -4.5099032 , -7.49459555]])"
      ]
     },
     "execution_count": 74,
     "metadata": {},
     "output_type": "execute_result"
    }
   ],
   "source": [
    "np.log2(np.diag(covariances[1])).reshape(8,8)"
   ]
  },
  {
   "cell_type": "code",
   "execution_count": null,
   "metadata": {
    "collapsed": true
   },
   "outputs": [],
   "source": []
  }
 ],
 "metadata": {
  "kernelspec": {
   "display_name": "Python 2",
   "language": "python",
   "name": "python2"
  },
  "language_info": {
   "codemirror_mode": {
    "name": "ipython",
    "version": 2
   },
   "file_extension": ".py",
   "mimetype": "text/x-python",
   "name": "python",
   "nbconvert_exporter": "python",
   "pygments_lexer": "ipython2",
   "version": "2.7.14"
  }
 },
 "nbformat": 4,
 "nbformat_minor": 2
}

{
 "cells": [
  {
   "cell_type": "code",
   "execution_count": 31,
   "metadata": {},
   "outputs": [
    {
     "data": {
      "text/html": [
       "<style>.container { width:100% !important; }</style>"
      ],
      "text/plain": [
       "<IPython.core.display.HTML object>"
      ]
     },
     "metadata": {},
     "output_type": "display_data"
    }
   ],
   "source": [
    "np.set_printoptions(suppress=True)\n",
    "from __future__ import division\n",
    "from IPython.core.display import display, HTML\n",
    "display(HTML(\"<style>.container { width:100% !important; }</style>\"))"
   ]
  },
  {
   "cell_type": "code",
   "execution_count": 281,
   "metadata": {
    "scrolled": true
   },
   "outputs": [
    {
     "name": "stdout",
     "output_type": "stream",
     "text": [
      "[-103.41463503  -81.3642064  -104.41643652  -96.04607813  -89.44708515\n",
      "  -96.097684   -101.86172548  -86.22865462 -106.69134749  -98.27258056]\n",
      "[-104.24232416  -78.24060068 -104.77906586  -97.2757702   -89.0028545\n",
      "  -92.82579881 -103.87315247  -86.10829827 -106.62276738  -99.12269239]\n"
     ]
    },
    {
     "data": {
      "image/png": "[encoded data removed]",
      "text/plain": [
       "<matplotlib.figure.Figure at 0x112733490>"
      ]
     },
     "metadata": {},
     "output_type": "display_data"
    },
    {
     "data": {
      "image/png": "[encoded data removed]",
      "text/plain": [
       "<matplotlib.figure.Figure at 0x112932590>"
      ]
     },
     "metadata": {},
     "output_type": "display_data"
    },
    {
     "name": "stdout",
     "output_type": "stream",
     "text": [
      "Train Accuracy 0.774142857143\n",
      "Test Accuracy 0.76425\n"
     ]
    }
   ],
   "source": [
    "'''\n",
    "Question 2.3 Skeleton Code\n",
    "\n",
    "Here you should implement and evaluate the Naive Bayes classifier.\n",
    "'''\n",
    "\n",
    "import data\n",
    "import numpy as np\n",
    "# Import pyplot - plt.imshow is useful!\n",
    "import matplotlib.pyplot as plt\n",
    "np.set_printoptions(suppress=True)\n",
    "from __future__ import division\n",
    "\n",
    "def binarize_data(pixel_values):\n",
    "    '''\n",
    "    Binarize the data by thresholding around 0.5\n",
    "    '''\n",
    "    return np.where(pixel_values > 0.5, 1.0, 0.0)\n",
    "\n",
    "def compute_parameters(train_data, train_labels):\n",
    "    '''\n",
    "    Compute the eta MAP estimate/MLE with augmented data\n",
    "\n",
    "    You should return a numpy array of shape (10, 64)\n",
    "    where the ith row corresponds to the ith digit class.\n",
    "    '''\n",
    "    eta = np.zeros((10, 64))\n",
    "    \n",
    "    a = 2\n",
    "    b = 2\n",
    "    \n",
    "    for i in range(10):\n",
    "        num = train_data[train_labels == i].sum(0) + 2 - 1 \n",
    "        denom = len(train_data[train_labels == i]) + a + b - 2\n",
    "        eta[i] = num / denom\n",
    "    \n",
    "    return eta\n",
    "\n",
    "def plot_images(class_images):\n",
    "    '''\n",
    "    Plot each of the images corresponding to each class side by side in grayscale\n",
    "    '''\n",
    "    classImgs = []\n",
    "    \n",
    "    for i in range(10):\n",
    "        img_i = class_images[i]\n",
    "        # ...\n",
    "        classImgs.append(img_i.reshape(8,8))\n",
    "\n",
    "    all_concat = np.concatenate(classImgs, 1)\n",
    "    plt.imshow(all_concat, cmap='gray')\n",
    "    plt.show()\n",
    "\n",
    "def generate_new_data(eta):\n",
    "    '''\n",
    "    Sample a new data point from your generative distribution p(x|y,theta) for\n",
    "    each value of y in the range 0...10\n",
    "\n",
    "    Plot these values\n",
    "    '''\n",
    "        \n",
    "    \n",
    "    generated_data = np.zeros((10, 64))\n",
    "\n",
    "    for i in range(len(eta)):\n",
    "        generated_data[i] = np.random.binomial(1,eta[i])\n",
    "    \n",
    "    plot_images(generated_data)\n",
    "\n",
    "\n",
    "def generative_likelihood(bin_digits, eta):\n",
    "    '''\n",
    "    Compute the generative log-likelihood:\n",
    "        log p(x|y, eta)\n",
    "\n",
    "    Should return an n x 10 numpy array \n",
    "    '''\n",
    "    GenLikelihood = np.zeros((bin_digits.shape[0],10))\n",
    "    \n",
    "    bin_len = len(bin_digits)\n",
    "\n",
    "    \n",
    "    for i in range(10):\n",
    "    \n",
    "\n",
    "        I_likelihood = np.prod((eta[i]) ** bin_digits *\n",
    "             (1 - eta[i]) ** (1 - bin_digits) ,axis = 1)\n",
    "        \n",
    "        \n",
    "        GenLikelihood[:,i]  = np.log(I_likelihood)\n",
    "    return GenLikelihood\n",
    "\n",
    "def conditional_likelihood(bin_digits, eta):\n",
    "    '''\n",
    "    Compute the conditional likelihood:\n",
    "\n",
    "        log p(y|x, eta)\n",
    "\n",
    "    This should be a numpy array of shape (n, 10)\n",
    "    Where n is the number of datapoints and 10 corresponds to each digit class\n",
    "    '''\n",
    "    GenLikelihood = generative_likelihood(bin_digits,eta)\n",
    "    Denom = GenLikelihood * (np.log(1/10))\n",
    "    \n",
    "    return GenLikelihood + (np.log(1/10)) - Denom\n",
    "\n",
    "def avg_conditional_likelihood(bin_digits, labels, eta):\n",
    "    '''\n",
    "    Compute the average conditional likelihood over the true class labels\n",
    "\n",
    "        AVG( log p(y_i|x_i, eta) )\n",
    "\n",
    "    i.e. the average log likelihood that the model assigns to the correct class label\n",
    "    '''\n",
    "    CondLikelihood = conditional_likelihood(bin_digits, eta)\n",
    "    \n",
    "    AvgLikelihood = np.zeros(10)\n",
    "    \n",
    "    for i in range(10):\n",
    "        AvgLikelihood[i] = CondLikelihood[labels == i][:,i].mean()\n",
    "    # Compute as described above and return\n",
    "    return AvgLikelihood\n",
    "\n",
    "def classify_data(bin_digits, eta):\n",
    "    '''\n",
    "    Classify new points by taking the most likely posterior class\n",
    "    '''\n",
    "    cond_likelihood = conditional_likelihood(bin_digits, eta)\n",
    "    # Compute and return the most likely class\n",
    "    lab = conditional_likelihood(bin_digits, eta).argmax(1)\n",
    "    return lab\n",
    "\n",
    "def main():\n",
    "    train_data, train_labels, test_data, test_labels = data.load_all_data('data')\n",
    "    train_data, test_data = binarize_data(train_data), binarize_data(test_data)\n",
    "\n",
    "    # Fit the model\n",
    "    eta = compute_parameters(train_data, train_labels)\n",
    "    \n",
    "    print(avg_conditional_likelihood(train_data,train_labels,eta))\n",
    "    print(avg_conditional_likelihood(test_data,test_labels,eta))\n",
    "    # Evaluation\n",
    "    plot_images(eta)\n",
    "    generate_new_data(eta)\n",
    "    \n",
    "    \n",
    "    TrainOut = conditional_likelihood(train_data, eta)\n",
    "    TestOut = conditional_likelihood(test_data, eta)\n",
    "    \n",
    "    print(\"Train Accuracy {}\".format((\n",
    "        TrainOut.argmax(1) == train_labels).sum() / len(train_labels)))\n",
    "    \n",
    "    print(\"Test Accuracy {}\".format((\n",
    "        TestOut.argmax(1) == test_labels).sum() / len(test_labels)))\n",
    "\n",
    "if __name__ == '__main__':\n",
    "    main()\n"
   ]
  },
  {
   "cell_type": "code",
   "execution_count": 273,
   "metadata": {},
   "outputs": [],
   "source": [
    "CondLikelihood = conditional_likelihood(train_data, eta)"
   ]
  },
  {
   "cell_type": "code",
   "execution_count": 279,
   "metadata": {},
   "outputs": [
    {
     "data": {
      "text/plain": [
       "array([3, 6, 3, ..., 1, 8, 1])"
      ]
     },
     "execution_count": 279,
     "metadata": {},
     "output_type": "execute_result"
    }
   ],
   "source": [
    "    TrainOut = conditional_likelihood(train_data, eta)\n",
    "TrainOut.argmax(1)"
   ]
  },
  {
   "cell_type": "code",
   "execution_count": null,
   "metadata": {
    "collapsed": true
   },
   "outputs": [],
   "source": []
  }
 ],
 "metadata": {
  "kernelspec": {
   "display_name": "Python 2",
   "language": "python",
   "name": "python2"
  },
  "language_info": {
   "codemirror_mode": {
    "name": "ipython",
    "version": 2
   },
   "file_extension": ".py",
   "mimetype": "text/x-python",
   "name": "python",
   "nbconvert_exporter": "python",
   "pygments_lexer": "ipython2",
   "version": "2.7.14"
  }
 },
 "nbformat": 4,
 "nbformat_minor": 2
}
